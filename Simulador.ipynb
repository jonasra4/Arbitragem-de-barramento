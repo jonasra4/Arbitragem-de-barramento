{
 "cells": [
  {
   "cell_type": "markdown",
   "metadata": {},
   "source": [
    "# Simulador de Árbitro de Barramento #"
   ]
  },
  {
   "cell_type": "markdown",
   "metadata": {},
   "source": [
    "**Entradas**"
   ]
  },
  {
   "cell_type": "code",
   "execution_count": 2,
   "metadata": {},
   "outputs": [
    {
     "name": "stdout",
     "output_type": "stream",
     "text": [
      "Insira a quantidade de perifericos: 5\n",
      "\n",
      "Informe quais são os perfirecos:\n",
      "1\n",
      "2\n",
      "3\n",
      "4\n",
      "5\n",
      "Informe a prioridade de cada periferico:\n",
      "1\n",
      "4\n",
      "3\n",
      "2\n",
      "5\n",
      "\n",
      "Informe a ordem de solicitação dos periféricos (Digite S para sair): \n",
      "1\n",
      "3\n",
      "4\n",
      "2\n",
      "5\n",
      "2\n",
      "1\n",
      "2\n",
      "s\n",
      "\n",
      "Informe o tempo (multiplo de 5) para cada periferico\n",
      "5\n",
      "10\n",
      "15\n",
      "15\n",
      "5\n",
      "10\n",
      "5\n",
      "15\n"
     ]
    }
   ],
   "source": [
    "n_perifericos = int(input('Insira a quantidade de perifericos: '))\n",
    "\n",
    "perifericos = []\n",
    "\n",
    "print('\\nInforme quais são os perfirecos:')\n",
    "for i in range(0,n_perifericos):\n",
    "    perifericos.append(int( input() ))\n",
    "\n",
    "periferico_prioridade = {}\n",
    "\n",
    "print('Informe a prioridade de cada periferico:')\n",
    "for i in perifericos:\n",
    "    periferico_prioridade[i] = (int( input() ))\n",
    "\n",
    "print('\\nInforme a ordem de solicitação dos periféricos (1 a 3, sendo 1 a mais baixa) (Digite S para sair): ')\n",
    "ordem_time_solicitacao = []\n",
    "\n",
    "while (True):\n",
    "    valor = input()\n",
    "    if (valor == 's' or valor =='S'):\n",
    "        break\n",
    "    else:\n",
    "        ordem_time_solicitacao.append([int(valor),0])\n",
    "\n",
    "print('\\nInforme o tempo (multiplo de 5) para cada periferico')\n",
    "for i in ordem_time_solicitacao:\n",
    "    i[1] = int(input())\n"
   ]
  },
  {
   "cell_type": "code",
   "execution_count": 8,
   "metadata": {},
   "outputs": [
    {
     "name": "stdout",
     "output_type": "stream",
     "text": [
      "Periferico e prioridade:\n",
      " {1: 1, 2: 4, 3: 3, 4: 2, 5: 5}\n",
      "\n",
      "Ordem e tempo:\n",
      " [[1, 5], [3, 10], [4, 15], [2, 15], [5, 5], [2, 10], [1, 5], [2, 15]]\n"
     ]
    }
   ],
   "source": [
    "print('Periferico e prioridade:\\n',periferico_prioridade)\n",
    "print('\\nOrdem e tempo:\\n',ordem_time_solicitacao)"
   ]
  },
  {
   "cell_type": "markdown",
   "metadata": {},
   "source": [
    "**Dayse chaning**"
   ]
  },
  {
   "cell_type": "code",
   "execution_count": 9,
   "metadata": {},
   "outputs": [
    {
     "name": "stdout",
     "output_type": "stream",
     "text": [
      "Dayse Chaning: [1, 3, 4, 2, 5, 2, 1, 2]\n"
     ]
    }
   ],
   "source": [
    "dayse_chaning = []\n",
    "for i in ordem_time_solicitacao:\n",
    "    dayse_chaning.append(i[0])\n",
    "    \n",
    "print(\"Dayse Chaning:\", dayse_chaning)"
   ]
  },
  {
   "cell_type": "markdown",
   "metadata": {},
   "source": [
    "**Fixa**"
   ]
  },
  {
   "cell_type": "code",
   "execution_count": 10,
   "metadata": {},
   "outputs": [
    {
     "name": "stdout",
     "output_type": "stream",
     "text": [
      "Prioridade fixa: [3, 4, 1, 1]\n"
     ]
    }
   ],
   "source": [
    "fixa = []\n",
    "\n",
    "for i in range(1,4):  #esse for considera que a prioridade varia de 1 a 3\n",
    "    prioridade_atual = 4 - i\n",
    "    for j in ordem_time_solicitacao:\n",
    "        if periferico_prioridade[j[0]] == prioridade_atual:\n",
    "            fixa.append(j[0])\n",
    "            \n",
    "print(\"Prioridade fixa:\", fixa)"
   ]
  },
  {
   "cell_type": "markdown",
   "metadata": {},
   "source": [
    "**Rotativa**"
   ]
  },
  {
   "cell_type": "code",
   "execution_count": 11,
   "metadata": {},
   "outputs": [
    {
     "name": "stdout",
     "output_type": "stream",
     "text": [
      "Prioridade fixa: [1, 1, 4, 3]\n"
     ]
    }
   ],
   "source": [
    "#inverte prioridades\n",
    "for key, value in periferico_prioridade.items():\n",
    "    if value == 3:\n",
    "        periferico_prioridade[key] = 1\n",
    "    elif value == 1:\n",
    "        periferico_prioridade[key] = 3\n",
    "    else: \n",
    "        pass\n",
    "    \n",
    "rotativa = []\n",
    "\n",
    "for i in range(1,4):  #esse for considera que a prioridade varia de 1 a 3\n",
    "    prioridade_atual = 4 - i\n",
    "    for j in ordem_time_solicitacao:\n",
    "        if periferico_prioridade[j[0]] == prioridade_atual:\n",
    "            rotativa.append(j[0])\n",
    "            \n",
    "print(\"Prioridade fixa:\", rotativa)"
   ]
  },
  {
   "cell_type": "markdown",
   "metadata": {},
   "source": [
    "**Justiça**"
   ]
  },
  {
   "cell_type": "code",
   "execution_count": 12,
   "metadata": {},
   "outputs": [
    {
     "name": "stdout",
     "output_type": "stream",
     "text": [
      "Justiça: [1, 3, 4, 2, 5, 2, 1, 2, 3, 4, 2, 2, 2, 4, 2, 2]\n"
     ]
    }
   ],
   "source": [
    "pass_again = True\n",
    "justice = []\n",
    "\n",
    "while(pass_again):\n",
    "    for i in ordem_time_solicitacao:\n",
    "        pass_again =  False\n",
    "        if i[1] > 0:\n",
    "            justice.append(i[0])\n",
    "            i[1] = i[1] - 5\n",
    "            pass_again = True \n",
    "        else:\n",
    "            pass\n",
    "        \n",
    "print(\"Justiça:\",justice)"
   ]
  }
 ],
 "metadata": {
  "kernelspec": {
   "display_name": "Python 3",
   "language": "python",
   "name": "python3"
  },
  "language_info": {
   "codemirror_mode": {
    "name": "ipython",
    "version": 3
   },
   "file_extension": ".py",
   "mimetype": "text/x-python",
   "name": "python",
   "nbconvert_exporter": "python",
   "pygments_lexer": "ipython3",
   "version": "3.6.5"
  }
 },
 "nbformat": 4,
 "nbformat_minor": 2
}
