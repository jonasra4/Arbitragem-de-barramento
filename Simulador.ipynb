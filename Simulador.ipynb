{
 "cells": [
  {
   "cell_type": "markdown",
   "metadata": {},
   "source": [
    "**Entradas**"
   ]
  },
  {
   "cell_type": "code",
   "execution_count": 108,
   "metadata": {},
   "outputs": [],
   "source": [
    "n_perifericos = 5\n",
    "\n",
    "#lista\n",
    "perifericos = [1,2,3,4,5]\n",
    "\n",
    "#dicinario\n",
    "periferico_prioridade = {1 : 3,\n",
    "                         2 : 1,\n",
    "                         3 : 1,\n",
    "                         4 : 2,\n",
    "                         5 : 3}\n",
    "\n",
    "#lista de lista\n",
    "ordem_time_solicitacao = [[3,5],\n",
    "                     [1,20],\n",
    "                     [5,10],\n",
    "                     [3,10],\n",
    "                     [4,15],\n",
    "                     [1,5],\n",
    "                     [5,5],\n",
    "                     [1,15]]"
   ]
  },
  {
   "cell_type": "markdown",
   "metadata": {},
   "source": [
    "**Dayse chaning**"
   ]
  },
  {
   "cell_type": "code",
   "execution_count": 109,
   "metadata": {},
   "outputs": [
    {
     "name": "stdout",
     "output_type": "stream",
     "text": [
      "Dayse Chaning: [3, 1, 5, 3, 4, 1, 5, 1]\n"
     ]
    }
   ],
   "source": [
    "dayse_chaning = []\n",
    "for i in ordem_time_solicitacao:\n",
    "    dayse_chaning.append(i[0])\n",
    "    \n",
    "print(\"Dayse Chaning:\", dayse_chaning)"
   ]
  },
  {
   "cell_type": "markdown",
   "metadata": {},
   "source": [
    "**Fixa**"
   ]
  },
  {
   "cell_type": "code",
   "execution_count": 110,
   "metadata": {},
   "outputs": [
    {
     "name": "stdout",
     "output_type": "stream",
     "text": [
      "Prioridade fixa: [1, 5, 1, 5, 1, 4, 3, 3]\n"
     ]
    }
   ],
   "source": [
    "fixa = []\n",
    "\n",
    "for i in range(1,4):  #esse for considera que a prioridade varia de 1 a 3\n",
    "    prioridade_atual = 4 - i\n",
    "    for j in ordem_time_solicitacao:\n",
    "        if periferico_prioridade[j[0]] == prioridade_atual:\n",
    "            fixa.append(j[0])\n",
    "            \n",
    "print(\"Prioridade fixa:\", fixa)"
   ]
  },
  {
   "cell_type": "markdown",
   "metadata": {},
   "source": [
    "**Rotativa**"
   ]
  },
  {
   "cell_type": "code",
   "execution_count": 111,
   "metadata": {},
   "outputs": [
    {
     "name": "stdout",
     "output_type": "stream",
     "text": [
      "Prioridade fixa: [3, 3, 4, 1, 5, 1, 5, 1]\n"
     ]
    }
   ],
   "source": [
    "#inverte prioridades\n",
    "for key, value in periferico_prioridade.items():\n",
    "    if value == 3:\n",
    "        periferico_prioridade[key] = 1\n",
    "    elif value == 1:\n",
    "        periferico_prioridade[key] = 3\n",
    "    else: \n",
    "        pass\n",
    "    \n",
    "rotativa = []\n",
    "\n",
    "for i in range(1,4):  #esse for considera que a prioridade varia de 1 a 3\n",
    "    prioridade_atual = 4 - i\n",
    "    for j in ordem_time_solicitacao:\n",
    "        if periferico_prioridade[j[0]] == prioridade_atual:\n",
    "            rotativa.append(j[0])\n",
    "            \n",
    "print(\"Prioridade fixa:\", rotativa)"
   ]
  },
  {
   "cell_type": "markdown",
   "metadata": {},
   "source": [
    "**Justiça**"
   ]
  },
  {
   "cell_type": "code",
   "execution_count": 112,
   "metadata": {},
   "outputs": [
    {
     "name": "stdout",
     "output_type": "stream",
     "text": [
      "Justiça: [3, 1, 5, 3, 4, 1, 5, 1, 1, 5, 3, 4, 1, 1, 4, 1, 1]\n"
     ]
    }
   ],
   "source": [
    "pass_again = True\n",
    "justice = []\n",
    "\n",
    "while(pass_again):\n",
    "    for i in ordem_time_solicitacao:\n",
    "        pass_again =  False\n",
    "        if i[1] > 0:\n",
    "            justice.append(i[0])\n",
    "            i[1] = i[1] - 5\n",
    "            pass_again = True \n",
    "        else:\n",
    "            pass\n",
    "        \n",
    "print(\"Justiça:\",justice)"
   ]
  }
 ],
 "metadata": {
  "kernelspec": {
   "display_name": "Python 3",
   "language": "python",
   "name": "python3"
  },
  "language_info": {
   "codemirror_mode": {
    "name": "ipython",
    "version": 3
   },
   "file_extension": ".py",
   "mimetype": "text/x-python",
   "name": "python",
   "nbconvert_exporter": "python",
   "pygments_lexer": "ipython3",
   "version": "3.6.5"
  }
 },
 "nbformat": 4,
 "nbformat_minor": 2
}
